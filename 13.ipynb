{
 "cells": [
  {
   "cell_type": "code",
   "execution_count": null,
   "id": "12bc6143-dbec-409b-9fcc-41ae76929297",
   "metadata": {},
   "outputs": [],
   "source": [
    "#ans:1=\n",
    "When creating a custom exception in a programming language like Python or Java, it is important to use the built-in Exception class as the base class for your custom exception.\n",
    "\n",
    "The reason for this is that Exception is the base class for all exceptions in the language, and it provides a set of useful properties and methods that are inherited by all derived exception classes.\n"
   ]
  },
  {
   "cell_type": "code",
   "execution_count": null,
   "id": "0b1e65a7-fad6-4f7f-a51c-7458ed61ea75",
   "metadata": {},
   "outputs": [],
   "source": [
    "#ans:3=\n",
    "The ArithmeticError class is a built-in exception class in Python that serves as the base class for all exceptions that occur during arithmetic operations. It has several derived classes, each of which represents a specific type of arithmetic error. Some of the errors defined in the ArithmeticError class are:\n",
    "1)ZeroDivisionError: This error is raised when you attempt to divide a number by zero. For example:\n",
    "        >>> 5 / 0\n",
    "Traceback (most recent call last):\n",
    "  File \"<stdin>\", line 1, in <module>\n",
    "ZeroDivisionError: division by zero\n",
    "\n",
    "2)OverflowError: This error is raised when a mathematical operation exceeds the maximum representable value for a numeric type.\n",
    ">>> import sys\n",
    ">>> sys.maxsize * 2\n",
    "Traceback (most recent call last):\n",
    "  File \"<stdin>\", line 1, in <module>\n",
    "OverflowError: integer overflow\n"
   ]
  },
  {
   "cell_type": "code",
   "execution_count": null,
   "id": "30c26066-2eb0-424e-9c8c-a98bf85960a8",
   "metadata": {},
   "outputs": [],
   "source": [
    "#ans"
   ]
  }
 ],
 "metadata": {
  "kernelspec": {
   "display_name": "Python 3 (ipykernel)",
   "language": "python",
   "name": "python3"
  },
  "language_info": {
   "codemirror_mode": {
    "name": "ipython",
    "version": 3
   },
   "file_extension": ".py",
   "mimetype": "text/x-python",
   "name": "python",
   "nbconvert_exporter": "python",
   "pygments_lexer": "ipython3",
   "version": "3.10.8"
  }
 },
 "nbformat": 4,
 "nbformat_minor": 5
}
